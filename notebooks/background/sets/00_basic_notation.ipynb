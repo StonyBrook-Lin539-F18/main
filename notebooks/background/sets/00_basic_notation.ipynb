{
 "cells": [
  {
   "cell_type": "markdown",
   "metadata": {},
   "source": [
    "$\\newcommand{\\is}{\\mathrel{\\mathop:=}}$\n",
    "$\\newcommand{\\range}{\\mathop{ran}}$\n",
    "$\\newcommand{\\setof}[1]{\\left \\{ #1 \\right \\}}$\n",
    "$\\newcommand{\\card}[1]{\\left | #1 \\right |}$\n",
    "$\\newcommand{\\tuple}[1]{\\left \\langle #1 \\right \\rangle}$\n",
    "$\\newcommand{\\emptytuple}{\\left \\langle \\right \\rangle}$\n",
    "$\\newcommand{\\tuplecat}{\\cdot}$\n",
    "$\\newcommand{\\stringcat}{\\cdot}$\n",
    "$\\newcommand{\\emptystring}{\\varepsilon}$\n",
    "$\\newcommand{\\String}[1]{\\mathit{#1}}$\n",
    "$\\newcommand{\\LeftEdgeSymbol}{\\rtimes}$\n",
    "$\\newcommand{\\RightEdgeSymbol}{\\ltimes}$\n",
    "$\\newcommand{\\LeftEdge}{\\LeftEdgeSymbol}$\n",
    "$\\newcommand{\\RightEdge}{\\RightEdgeSymbol}$\n",
    "$\\newcommand{\\mult}{\\times}$\n",
    "$\\newcommand{\\multisum}{\\uplus}$\n",
    "$\\newcommand{\\multimult}{\\otimes}$\n",
    "$\\newcommand{\\freqsymbol}{\\mathrm{freq}}$\n",
    "$\\newcommand{\\freq}[1]{\\freqsymbol(#1)}$\n",
    "$\\newcommand{\\prob}{P}$\n",
    "$\\newcommand{\\counts}[2]{\\card{#2}_{#1}}$\n",
    "$\\newcommand{\\inv}[1]{#1^{-1}}$\n",
    "$\\newcommand{\\Lex}{\\mathit{Lex}}$\n",
    "$\\newcommand{\\length}[1]{\\left | #1 \\right |}$\n",
    "$\\newcommand{\\suc}{S}$\n",
    "$\\newcommand{\\sprec}{<}$\n",
    "$\\newcommand{\\Rcomp}[2]{#1 \\circ #2}$\n",
    "$\\newcommand{\\domsymbol}{\\triangleleft}$\n",
    "$\\newcommand{\\idom}{\\domsymbol}$\n",
    "$\\newcommand{\\pdom}{\\domsymbol^+}$\n",
    "$\\newcommand{\\rdom}{\\domsymbol^*}$\n",
    "$\\newcommand{\\indegree}[1]{\\mathrm{in(#1)}}$\n",
    "$\\newcommand{\\outdegree}[1]{\\mathrm{out(#1)}}$\n",
    "$\\newcommand{\\cupdot}{\\cup\\mkern-11.5mu\\cdot\\mkern5mu}$\n",
    "$\\newcommand{\\mymatrix}[1]{\\left ( \\matrix{#1} \\right )}$\n",
    "\n",
    "# Sets: The basics\n",
    "\n",
    "Sets are the fundamental building block of modern mathematics.\n",
    "Intuitively, a set is a collection of objects, but with two important twists:\n",
    "\n",
    "1. Sets are unordered.\n",
    "1. Sets contain no duplicates.\n",
    "\n",
    "<div class=example>\n",
    "Suppose you want to keep a record of which words occur in a text.\n",
    "You aren't interested in how often a given word occured, just whether it occurs at all.\n",
    "Nor do you care in which order the words occurred in the text.\n",
    "So you are actually interested in the *set* of words that occur in the text.\n",
    "</div>"
   ]
  },
  {
   "cell_type": "code",
   "execution_count": 1,
   "metadata": {},
   "outputs": [
    {
     "data": {
      "text/html": [
       "<script>\n",
       "code_show=true; \n",
       "function code_toggle() {\n",
       " if (code_show){\n",
       " $('div.input').hide();\n",
       " } else {\n",
       " $('div.input').show();\n",
       " }\n",
       " code_show = !code_show\n",
       "} \n",
       "$( document ).ready(code_toggle);\n",
       "</script>\n",
       "The raw code for this IPython notebook is by default hidden for easier reading.\n",
       "To toggle on/off the raw code, click <a href=\"javascript:code_toggle()\">here</a>."
      ],
      "text/plain": [
       "<IPython.core.display.HTML object>"
      ]
     },
     "execution_count": 1,
     "metadata": {},
     "output_type": "execute_result"
    }
   ],
   "source": [
    "from IPython.display import HTML\n",
    "HTML('''<script>\n",
    "code_show=true; \n",
    "function code_toggle() {\n",
    " if (code_show){\n",
    " $('div.input').hide();\n",
    " } else {\n",
    " $('div.input').show();\n",
    " }\n",
    " code_show = !code_show\n",
    "} \n",
    "$( document ).ready(code_toggle);\n",
    "</script>\n",
    "The raw code for this IPython notebook is by default hidden for easier reading.\n",
    "To toggle on/off the raw code, click <a href=\"javascript:code_toggle()\">here</a>.''')"
   ]
  },
  {
   "cell_type": "code",
   "execution_count": 2,
   "metadata": {},
   "outputs": [
    {
     "data": {
      "application/vnd.jupyter.widget-view+json": {
       "model_id": "dc5476a01c804c358544e5127ee24751",
       "version_major": 2,
       "version_minor": 0
      },
      "text/plain": [
       "Text(value='If police police police, then police police police.', description='Original text:', placeholder=''…"
      ]
     },
     "metadata": {},
     "output_type": "display_data"
    },
    {
     "data": {
      "application/vnd.jupyter.widget-view+json": {
       "model_id": "ec189654d41144ffa5865d35653c5401",
       "version_major": 2,
       "version_minor": 0
      },
      "text/plain": [
       "Text(value='', description='Set of words:', placeholder='')"
      ]
     },
     "metadata": {},
     "output_type": "display_data"
    },
    {
     "name": "stdout",
     "output_type": "stream",
     "text": [
      "\n"
     ]
    }
   ],
   "source": [
    "# Converting a text to the set of words\n",
    "import re\n",
    "import ipywidgets\n",
    "from ast import literal_eval\n",
    "\n",
    "from IPython.display import display\n",
    "\n",
    "def text_to_set(text):\n",
    "    return set(re.findall(r\"\\w+\", text.lower()))\n",
    "\n",
    "t = ipywidgets.Text(\n",
    "    value='If police police police, then police police police.',\n",
    "    placeholder='',\n",
    "    description='Original text:',\n",
    "    disabled=False\n",
    ")\n",
    "\n",
    "display(t)\n",
    "\n",
    "tTwo = ipywidgets.Text(\n",
    "    value='',\n",
    "    placeholder='',\n",
    "    description='Set of words:',\n",
    "    disabled=False\n",
    ")\n",
    "\n",
    "display(tTwo)\n",
    "print(tTwo.value)\n",
    "\n",
    "text = \"If police police police, then police police police.\"\n",
    "\n",
    "def callback(widget):\n",
    "    # print the actual set\n",
    "    #print(type(text_to_set(text)))\n",
    "    setText = text_to_set(text)\n",
    "    #print(text_to_set(text))\n",
    "    print(setText)\n",
    "    #display what the user wrote\n",
    "    wordList = re.sub(\"[^\\w]\", \" \",  widget.value).split()\n",
    "    wordList = set(wordList)\n",
    "    #print(type(wordList))\n",
    "    print(wordList)\n",
    "    #display(widget.value)\n",
    "    if setText == wordList:\n",
    "        print(\"Correct!\")\n",
    "    else:\n",
    "        print(\"Try again.\")\n",
    "\n",
    "tTwo.on_submit(callback)\n",
    "\n",
    "# change the string below as you see fit\n",
    "#text = \"If police police police, then police police police.\"\n",
    "#print(\"The original text is:\")\n",
    "#print(text)\n",
    "#print(\"The set of words is:\")\n",
    "#print(text_to_set(text))"
   ]
  },
  {
   "cell_type": "markdown",
   "metadata": {},
   "source": [
    "Each property is explained in detail below, but let's first put some helpful notation in place.\n",
    "\n",
    "## List notation\n",
    "\n",
    "Sets are often written as lists with curly braces around them.\n",
    "So $\\setof{a, b, c, d}$ denotes the set containing $a$, $b$, $c$, $d$.\n",
    "Here $a$, $b$, $c$, $d$ are some arbitrary objects.\n",
    "This is known as *list notation*.\n",
    "More complex sets are defined with [set-builder notation](./fixme).\n",
    "\n",
    "<div class=example>\n",
    "Consider the string *If John slept, then Mary left.*\n",
    "Its set of words (ignoring sentence-initial capitalization) is\n",
    "$\\setof{\n",
    "\\text{if},\n",
    "\\text{John},\n",
    "\\text{left},\n",
    "\\text{Mary},\n",
    "\\text{slept},\n",
    "\\text{then}\n",
    "}$.\n",
    "</div>\n",
    "\n",
    "<div class=exercise>\n",
    "Write the following as a set:\n",
    "\n",
    "<ol>\n",
    "<li>the first names of your three favorite actors/actresses,</li>\n",
    "<li>the colors of the rainbow,</li>\n",
    "<li>all prime numbers between 1 and 10 (remember, 1 is not a prime number!)</li>\n",
    "</ol>\n",
    "</div>\n",
    "\n",
    "## Elements and set membership\n",
    "\n",
    "The objects contained in a set are called its *elements* or *members*.\n",
    "One writes $e \\in S$ to indicate that $e$ is an element of $S$.\n",
    "The opposite is denoted $e \\notin S$: $e$ is not an element of $S$.\n",
    "The symbol $\\in$ thus indicates *set membership*.\n",
    "\n",
    "<div class=example>\n",
    "Let $W$ be the set of words in the string *If John slept, then Mary left.*\n",
    "Then it holds that $\\text{left} \\in W$ and $\\text{right} \\notin W$.\n",
    "But it is not the case that $\\text{then} \\notin W$ or $\\text{awake} \\in W$.\n",
    "</div>\n",
    "\n",
    "Sometimes $\\ni$ is used as the mirror image of $\\in$.\n",
    "For example, $a \\in S$ could also be written as $S \\ni a$.\n",
    "\n",
    "<div class=example>\n",
    "Continuing the previous example, it is true that $\\text{left} \\in W \\ni \\text{then}$.\n",
    "That is to say, both $\\text{left} \\in W$ and $\\text{then} \\in W$ are true.\n",
    "</div>\n",
    "\n",
    "<div class=exercise>\n",
    "Put $\\in$, $\\ni$, $\\notin$, $\\not\\ni$ in the gaps below as appropriate:\n",
    "<ol>\n",
    "<li>\n",
    "$5 \\_ \\setof{1,2,4,5,8}$\n",
    "</li>\n",
    "<li>\n",
    "$6 \\_ \\setof{1,2,4,5,8}$\n",
    "</li>\n",
    "<li>\n",
    "$\\setof{5} \\_ \\setof{1,2,4,5,8}$\n",
    "</li>\n",
    "<li>\n",
    "$5 \\_ \\setof{1,2,4,5,8} \\_ 6$\n",
    "</li>\n",
    "</ol>\n",
    "</div>\n",
    "\n",
    "## Lack of order\n",
    "\n",
    "Even though we may write sets in a linear fashion as lists, they have no internal order.\n",
    "The set $\\setof{a,b}$ could also be written as $\\setof{b,a}$.\n",
    "So we have $\\setof{a,b} = \\setof{b,a}$, and\n",
    "$\\setof{a,b,c} =\n",
    " \\setof{a,c,b} =\n",
    " \\setof{b,a,c} =\n",
    " \\setof{b,c,a} =\n",
    " \\setof{c,a,b} =\n",
    " \\setof{c,b,a}\n",
    "$.\n",
    "\n",
    "<div class=example>\n",
    "Consider the strings *If John slept, then Mary left* and *If Mary left, then John slept*.\n",
    "While they are clearly distinct sentences, their sets of words are identical.\n",
    "</div>"
   ]
  },
  {
   "cell_type": "code",
   "execution_count": 3,
   "metadata": {},
   "outputs": [
    {
     "data": {
      "application/vnd.jupyter.widget-view+json": {
       "model_id": "bf52d244fda84ba990038fddb6b63511",
       "version_major": 2,
       "version_minor": 0
      },
      "text/plain": [
       "Text(value='If John slept, then Mary left.', description='First:', placeholder='')"
      ]
     },
     "metadata": {},
     "output_type": "display_data"
    },
    {
     "data": {
      "application/vnd.jupyter.widget-view+json": {
       "model_id": "144c863257304cab8dc5844cb8c03342",
       "version_major": 2,
       "version_minor": 0
      },
      "text/plain": [
       "Text(value='If Mary left, then John slept.', description='Second:', placeholder='')"
      ]
     },
     "metadata": {},
     "output_type": "display_data"
    },
    {
     "name": "stdout",
     "output_type": "stream",
     "text": [
      "Are the sets identical?\n"
     ]
    },
    {
     "data": {
      "application/vnd.jupyter.widget-view+json": {
       "model_id": "57dddbc69b514683be8f9015a7bbcb83",
       "version_major": 2,
       "version_minor": 0
      },
      "text/plain": [
       "Text(value='', description='Yes/No:', placeholder='')"
      ]
     },
     "metadata": {},
     "output_type": "display_data"
    }
   ],
   "source": [
    "import re\n",
    "import ipywidgets\n",
    "\n",
    "from IPython.display import display\n",
    "\n",
    "def text_to_set(text):\n",
    "    return set(re.findall(r\"\\w+\", text.lower()))\n",
    "\n",
    "text1 = \"If John slept, then Mary left.\"\n",
    "text2 = \"If Mary left, then John slept.\"\n",
    "\n",
    "t = ipywidgets.Text(\n",
    "    value=text1,\n",
    "    placeholder='',\n",
    "    description='First:',\n",
    "    disabled=False\n",
    ")\n",
    "\n",
    "display(t)\n",
    "\n",
    "t2 = ipywidgets.Text(\n",
    "    value=text2,\n",
    "    placeholder='',\n",
    "    description='Second:',\n",
    "    disabled=False\n",
    ")\n",
    "\n",
    "display(t2)\n",
    "\n",
    "set1, set2 = text_to_set(text1), text_to_set(text2)\n",
    "print(\"Are the sets identical?\")\n",
    "\n",
    "user_input = ipywidgets.Text(\n",
    "    value=\"\",\n",
    "    placeholder='',\n",
    "    description='Yes/No:',\n",
    "    disabled=False\n",
    ")\n",
    "\n",
    "display(user_input)\n",
    "\n",
    "def callback(widget):\n",
    "    if widget.value == \"Yes\":\n",
    "        print(\"Correct\")\n",
    "    else:\n",
    "        print(\"Incorrect\")\n",
    "        \n",
    "user_input.on_submit(callback)\n",
    "#print(\"Yes\") if set1 == set2 else print(\"No\")"
   ]
  },
  {
   "cell_type": "markdown",
   "metadata": {},
   "source": [
    "<div class=exercise>\n",
    "For each one of the following, fill the gap with $=$ or $\\neq$ as appropriate:\n",
    "<ol>\n",
    "<li>\n",
    "$\\setof{a,b} \\_ \\setof{a,b}$\n",
    "</li>\n",
    "<li>\n",
    "$\\setof{b,a} \\_ \\setof{a,b}$\n",
    "</li>\n",
    "<li>\n",
    "$\\setof{b,a,c,d} \\_ \\setof{e,a,b,d}$\n",
    "</li>\n",
    "</ol>\n",
    "</div>\n",
    "\n",
    "## Lack of duplicates/Idempotency\n",
    "\n",
    "Sets are *idempotent*, which means that duplicates are ignored.\n",
    "So $\\setof{a,b} = \\setof{a,a,b} = \\setof{a,b,b,a,b,a,b,a,a}$.\n",
    "It also holds that $\\setof{a} = \\setof{a,a} = \\setof{a,a,a}$, and so on."
   ]
  },
  {
   "cell_type": "code",
   "execution_count": 4,
   "metadata": {},
   "outputs": [
    {
     "data": {
      "application/vnd.jupyter.widget-view+json": {
       "model_id": "af4159e66a094ccf8a67bcf76c08309d",
       "version_major": 2,
       "version_minor": 0
      },
      "text/plain": [
       "Text(value='If John slept, then Mary left.', description='First:', placeholder='')"
      ]
     },
     "metadata": {},
     "output_type": "display_data"
    },
    {
     "data": {
      "application/vnd.jupyter.widget-view+json": {
       "model_id": "5e0f9f3986c346abb6c04726679c55bf",
       "version_major": 2,
       "version_minor": 0
      },
      "text/plain": [
       "Text(value='If Mary left, then John slept.', description='Second:', placeholder='')"
      ]
     },
     "metadata": {},
     "output_type": "display_data"
    },
    {
     "name": "stdout",
     "output_type": "stream",
     "text": [
      "Are the sets identical?\n"
     ]
    },
    {
     "data": {
      "application/vnd.jupyter.widget-view+json": {
       "model_id": "d9bafaeda3f242069fffb173faae30ae",
       "version_major": 2,
       "version_minor": 0
      },
      "text/plain": [
       "Text(value='', description='True/False:', placeholder='')"
      ]
     },
     "metadata": {},
     "output_type": "display_data"
    }
   ],
   "source": [
    "import re\n",
    "\n",
    "import ipywidgets\n",
    "\n",
    "from IPython.display import display\n",
    "\n",
    "def text_to_set(text):\n",
    "    return set(re.findall(r\"\\w+\", text.lower()))\n",
    "\n",
    "text1 = \"If John slept, then Mary left.\"\n",
    "text2 = \"If Mary left, then John slept.\"\n",
    "\n",
    "t = ipywidgets.Text(\n",
    "    value=text1,\n",
    "    placeholder='',\n",
    "    description='First:',\n",
    "    disabled=False\n",
    ")\n",
    "\n",
    "display(t)\n",
    "\n",
    "t2 = ipywidgets.Text(\n",
    "    value=text2,\n",
    "    placeholder='',\n",
    "    description='Second:',\n",
    "    disabled=False\n",
    ")\n",
    "\n",
    "display(t2)\n",
    "\n",
    "set1, set2 = text_to_set(text1), text_to_set(text2)\n",
    "print(\"Are the sets identical?\")\n",
    "#print(set1 == set2)\n",
    "\n",
    "user_input = ipywidgets.Text(\n",
    "    value=\"\",\n",
    "    placeholder='',\n",
    "    description='True/False:',\n",
    "    disabled=False\n",
    ")\n",
    "\n",
    "display(user_input)\n",
    "\n",
    "def callback(widget):\n",
    "    if widget.value == \"True\":\n",
    "        print(\"Correct\")\n",
    "    else:\n",
    "        print(\"Incorrect\")\n",
    "        \n",
    "user_input.on_submit(callback)"
   ]
  },
  {
   "cell_type": "markdown",
   "metadata": {},
   "source": [
    "<div class=example>\n",
    "Linguists distinguish between *word types* and *word tokens*.\n",
    "The sentence *dogs love dogs* contain two tokens of the type *dogs*, and one token of the type *love*.\n",
    "The sentences *dogs love* and *dogs love dogs* are different with respect to word tokens, but identical with respect to word types.\n",
    "So if you care about word types rather than word tokens, you're dealing with a set because the only thing that matters is which words the text contains, not how many tokens of each word.\n",
    "</div>\n",
    "\n",
    "<div class=example>\n",
    "Consider the sentence *If police police police, then police police police*.\n",
    "Its set of words (ignoring capitalization) is \n",
    "$\\setof{\n",
    "\\text{if},\n",
    "\\text{police},\n",
    "\\text{then}\n",
    "}$.\n",
    "</div>\n",
    "\n",
    "<div class=exercise>\n",
    "For each one of the following, fill the gap with $=$ or $\\neq$ as appropriate:\n",
    "<ol>\n",
    "<li>\n",
    "$\\setof{a,b} \\_ \\setof{a,a,b,b}$\n",
    "</li>\n",
    "<li>\n",
    "$\\setof{b,a} \\_ \\setof{a,b,a}$\n",
    "</li>\n",
    "<li>\n",
    "$\\setof{c,b,a,a,d,c} \\_ \\setof{a,a,b,d,c,c,c}$\n",
    "</li>\n",
    "$\\setof{a} \\_ \\setof{a,a,a,a,a,a,c,a,a,a,a,a,a}$\n",
    "</ol>\n",
    "</div>\n",
    "\n",
    "<div class=exercise>\n",
    "The sentence *If police police police, then police police police* actually uses two different word types.\n",
    "It just just so happens that both are pronounced and spelled *police*.\n",
    "But one is the noun *police*, the other one the verb *police*.\n",
    "So we might want to annote the string as follows:\n",
    "*If police[N] police[V] police[N], then police[N] police[V] police[N]*.\n",
    "Assume that words are annotated with their part of speech in this fashion.\n",
    "Then what would be the corresponding set of words?\n",
    "</div>\n",
    "\n",
    "## Recap\n",
    "\n",
    "- Sets are collections of arbitrary objects.\n",
    "- Sets are unordered and idempotent (= duplicates are ignored).\n",
    "- Sets can be defined with list notation, e.g. $\\setof{a, b}$.\n",
    "- The objects contained in a set are called its *elements* or *members*.\n",
    "- The symbols $\\in$ and $\\notin$ are used to indicate membership and non-membership, respectively.\n",
    "- Occasionally, $\\ni$ is used as the mirror image of $\\in$."
   ]
  }
 ],
 "metadata": {
  "kernelspec": {
   "display_name": "Python 3",
   "language": "python",
   "name": "python3"
  },
  "language_info": {
   "codemirror_mode": {
    "name": "ipython",
    "version": 3
   },
   "file_extension": ".py",
   "mimetype": "text/x-python",
   "name": "python",
   "nbconvert_exporter": "python",
   "pygments_lexer": "ipython3",
   "version": "3.6.5"
  },
  "widgets": {
   "application/vnd.jupyter.widget-state+json": {
    "state": {
     "144c863257304cab8dc5844cb8c03342": {
      "model_module": "@jupyter-widgets/controls",
      "model_module_version": "1.2.0",
      "model_name": "TextModel",
      "state": {
       "description": "Second:",
       "layout": "IPY_MODEL_af65da0870224087ac85b79c12910542",
       "placeholder": "",
       "style": "IPY_MODEL_7432b88ea2954cc580a5b66cdd65d9ae",
       "value": "If Mary left, then John slept."
      }
     },
     "1fa0cdafb31c4124a73eb733e9f0a2f0": {
      "model_module": "@jupyter-widgets/controls",
      "model_module_version": "1.2.0",
      "model_name": "DescriptionStyleModel",
      "state": {
       "description_width": ""
      }
     },
     "3be176a01d364ebda3b47d96b8f4644b": {
      "model_module": "@jupyter-widgets/controls",
      "model_module_version": "1.2.0",
      "model_name": "DescriptionStyleModel",
      "state": {
       "description_width": ""
      }
     },
     "41f551a4bd7749a8a4db199756fc12b5": {
      "model_module": "@jupyter-widgets/base",
      "model_module_version": "1.0.0",
      "model_name": "LayoutModel",
      "state": {}
     },
     "546812e845af401a858d33f8e5446599": {
      "model_module": "@jupyter-widgets/controls",
      "model_module_version": "1.2.0",
      "model_name": "DescriptionStyleModel",
      "state": {
       "description_width": ""
      }
     },
     "5470a02618394eda9491f83a16fc41e4": {
      "model_module": "@jupyter-widgets/controls",
      "model_module_version": "1.2.0",
      "model_name": "DescriptionStyleModel",
      "state": {
       "description_width": ""
      }
     },
     "57dddbc69b514683be8f9015a7bbcb83": {
      "model_module": "@jupyter-widgets/controls",
      "model_module_version": "1.2.0",
      "model_name": "TextModel",
      "state": {
       "description": "Yes/No:",
       "layout": "IPY_MODEL_620099cc58404fabb01c42f4730b0004",
       "placeholder": "",
       "style": "IPY_MODEL_3be176a01d364ebda3b47d96b8f4644b"
      }
     },
     "5e0f9f3986c346abb6c04726679c55bf": {
      "model_module": "@jupyter-widgets/controls",
      "model_module_version": "1.2.0",
      "model_name": "TextModel",
      "state": {
       "description": "Second:",
       "layout": "IPY_MODEL_41f551a4bd7749a8a4db199756fc12b5",
       "placeholder": "",
       "style": "IPY_MODEL_5470a02618394eda9491f83a16fc41e4",
       "value": "If Mary left, then John slept."
      }
     },
     "620099cc58404fabb01c42f4730b0004": {
      "model_module": "@jupyter-widgets/base",
      "model_module_version": "1.0.0",
      "model_name": "LayoutModel",
      "state": {}
     },
     "6e5c765f642c404dbd79921eb4f6743e": {
      "model_module": "@jupyter-widgets/controls",
      "model_module_version": "1.2.0",
      "model_name": "DescriptionStyleModel",
      "state": {
       "description_width": ""
      }
     },
     "7432b88ea2954cc580a5b66cdd65d9ae": {
      "model_module": "@jupyter-widgets/controls",
      "model_module_version": "1.2.0",
      "model_name": "DescriptionStyleModel",
      "state": {
       "description_width": ""
      }
     },
     "7762022527e944af8447ff961bdd419f": {
      "model_module": "@jupyter-widgets/base",
      "model_module_version": "1.0.0",
      "model_name": "LayoutModel",
      "state": {}
     },
     "800046e06e5341ce8b24d6b40884367d": {
      "model_module": "@jupyter-widgets/controls",
      "model_module_version": "1.2.0",
      "model_name": "DescriptionStyleModel",
      "state": {
       "description_width": ""
      }
     },
     "af4159e66a094ccf8a67bcf76c08309d": {
      "model_module": "@jupyter-widgets/controls",
      "model_module_version": "1.2.0",
      "model_name": "TextModel",
      "state": {
       "description": "First:",
       "layout": "IPY_MODEL_7762022527e944af8447ff961bdd419f",
       "placeholder": "",
       "style": "IPY_MODEL_546812e845af401a858d33f8e5446599",
       "value": "If John slept, then Mary left."
      }
     },
     "af65da0870224087ac85b79c12910542": {
      "model_module": "@jupyter-widgets/base",
      "model_module_version": "1.0.0",
      "model_name": "LayoutModel",
      "state": {}
     },
     "b3ff283fd2864bdd99b6e5f1fba95a1d": {
      "model_module": "@jupyter-widgets/base",
      "model_module_version": "1.0.0",
      "model_name": "LayoutModel",
      "state": {}
     },
     "be9d6fbdc3494a9288ddf367d45b5b90": {
      "model_module": "@jupyter-widgets/base",
      "model_module_version": "1.0.0",
      "model_name": "LayoutModel",
      "state": {}
     },
     "bf52d244fda84ba990038fddb6b63511": {
      "model_module": "@jupyter-widgets/controls",
      "model_module_version": "1.2.0",
      "model_name": "TextModel",
      "state": {
       "description": "First:",
       "layout": "IPY_MODEL_d7252f7f10064af291094d29ec969bfd",
       "placeholder": "",
       "style": "IPY_MODEL_d065dd4620d84c82992edbcddeacb7da",
       "value": "If John slept, then Mary left."
      }
     },
     "d065dd4620d84c82992edbcddeacb7da": {
      "model_module": "@jupyter-widgets/controls",
      "model_module_version": "1.2.0",
      "model_name": "DescriptionStyleModel",
      "state": {
       "description_width": ""
      }
     },
     "d7252f7f10064af291094d29ec969bfd": {
      "model_module": "@jupyter-widgets/base",
      "model_module_version": "1.0.0",
      "model_name": "LayoutModel",
      "state": {}
     },
     "d9bafaeda3f242069fffb173faae30ae": {
      "model_module": "@jupyter-widgets/controls",
      "model_module_version": "1.2.0",
      "model_name": "TextModel",
      "state": {
       "description": "True/False:",
       "layout": "IPY_MODEL_e200ecae7a5845808abbd1967614e543",
       "placeholder": "",
       "style": "IPY_MODEL_800046e06e5341ce8b24d6b40884367d"
      }
     },
     "dc5476a01c804c358544e5127ee24751": {
      "model_module": "@jupyter-widgets/controls",
      "model_module_version": "1.2.0",
      "model_name": "TextModel",
      "state": {
       "description": "Original text:",
       "layout": "IPY_MODEL_be9d6fbdc3494a9288ddf367d45b5b90",
       "placeholder": "",
       "style": "IPY_MODEL_6e5c765f642c404dbd79921eb4f6743e",
       "value": "If police police police, then police police police."
      }
     },
     "e200ecae7a5845808abbd1967614e543": {
      "model_module": "@jupyter-widgets/base",
      "model_module_version": "1.0.0",
      "model_name": "LayoutModel",
      "state": {}
     },
     "ec189654d41144ffa5865d35653c5401": {
      "model_module": "@jupyter-widgets/controls",
      "model_module_version": "1.2.0",
      "model_name": "TextModel",
      "state": {
       "description": "Set of words:",
       "layout": "IPY_MODEL_b3ff283fd2864bdd99b6e5f1fba95a1d",
       "placeholder": "",
       "style": "IPY_MODEL_1fa0cdafb31c4124a73eb733e9f0a2f0"
      }
     }
    },
    "version_major": 2,
    "version_minor": 0
   }
  }
 },
 "nbformat": 4,
 "nbformat_minor": 2
}
